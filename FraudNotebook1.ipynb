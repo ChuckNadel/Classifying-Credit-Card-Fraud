{
 "cells": [
  {
   "attachments": {},
   "cell_type": "markdown",
   "metadata": {},
   "source": [
    "# Classifying Credit Card Fraud"
   ]
  },
  {
   "cell_type": "code",
   "execution_count": 1,
   "metadata": {},
   "outputs": [],
   "source": [
    "try: # Wrapper to save time when running all cells\n",
    "    # Standard Packages\n",
    "    import pandas as pd\n",
    "    import numpy as np\n",
    "    import markdown\n",
    "    import os\n",
    "\n",
    "    # Viz Packages\n",
    "    import seaborn as sns\n",
    "    import matplotlib.pyplot as plt\n",
    "\n",
    "    # Scipy Stats\n",
    "    import scipy.stats as stats\n",
    "    from scipy.special import logit, expit\n",
    "\n",
    "    # Statsmodel Api\n",
    "    import statsmodels.api as sm\n",
    "    from statsmodels.formula.api import ols\n",
    "\n",
    "    # SKLearn Modules\n",
    "    from sklearn.linear_model import LinearRegression, Ridge, Lasso, ElasticNet, LogisticRegression\n",
    "    from sklearn.feature_selection import RFE\n",
    "    from sklearn.preprocessing import StandardScaler, OneHotEncoder, normalize\n",
    "    from sklearn.metrics import r2_score, mean_squared_error, mean_absolute_error, log_loss, confusion_matrix, RocCurveDisplay, plot_roc_curve, classification_report, accuracy_score, recall_score, precision_score, f1_score\n",
    "    from sklearn.preprocessing import PolynomialFeatures, LabelEncoder\n",
    "    from sklearn.datasets import load_diabetes\n",
    "    from sklearn.model_selection import train_test_split, cross_validate, KFold, cross_val_score\n",
    "    from sklearn import datasets\n",
    "\n",
    "    # Suppress future, deprecation, and SettingWithCopy warnings\n",
    "    import warnings\n",
    "    warnings.filterwarnings(\"ignore\", category= FutureWarning)\n",
    "    warnings.filterwarnings(\"ignore\", category=DeprecationWarning)\n",
    "    pd.options.mode.chained_assignment = None\n",
    "\n",
    "    # make all columns in a df viewable\n",
    "    pd.options.display.max_columns = None\n",
    "    pd.options.display.width = None\n",
    "except ImportError:\n",
    "    pass"
   ]
  },
  {
   "attachments": {},
   "cell_type": "markdown",
   "metadata": {},
   "source": [
    "## Section One: Data Preparation"
   ]
  },
  {
   "attachments": {},
   "cell_type": "markdown",
   "metadata": {},
   "source": [
    "Currently, our data is split into two csv files, fraudTrain and fraudTest. This does seem nice of the data uploader if we were going to use Test_Train_Split, however, we may want to undersample down the line, so we have to merge them."
   ]
  },
  {
   "cell_type": "code",
   "execution_count": 4,
   "metadata": {},
   "outputs": [],
   "source": [
    "# Wrapper Function to Save Time Uploading Data\n",
    "if not 'fraudDF' in globals():\n",
    "    if os.path.exists('data/fraudTrain.csv') and os.path.exists('data/fraudTest.csv'):\n",
    "        # Load in Fraud Test and Train\n",
    "        fraudTrain = pd.read_csv('data/fraudTrain.csv')\n",
    "        fraudTest = pd.read_csv('data/fraudTest.csv')\n",
    "\n",
    "        # Concatenate them together\n",
    "        fraudDF = pd.concat([fraudTrain,fraudTest], axis = 0)"
   ]
  },
  {
   "cell_type": "code",
   "execution_count": null,
   "metadata": {},
   "outputs": [],
   "source": []
  }
 ],
 "metadata": {
  "kernelspec": {
   "display_name": "learn-env",
   "language": "python",
   "name": "python3"
  },
  "language_info": {
   "codemirror_mode": {
    "name": "ipython",
    "version": 3
   },
   "file_extension": ".py",
   "mimetype": "text/x-python",
   "name": "python",
   "nbconvert_exporter": "python",
   "pygments_lexer": "ipython3",
   "version": "3.8.1"
  },
  "orig_nbformat": 4
 },
 "nbformat": 4,
 "nbformat_minor": 2
}
