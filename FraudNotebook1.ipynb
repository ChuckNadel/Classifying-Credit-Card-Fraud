{
 "cells": [
  {
   "attachments": {},
   "cell_type": "markdown",
   "metadata": {},
   "source": [
    "# Classifying Credit Card Fraud"
   ]
  },
  {
   "cell_type": "code",
   "execution_count": 51,
   "metadata": {},
   "outputs": [],
   "source": [
    "\n",
    "# Standard Packages\n",
    "import pandas as pd\n",
    "import numpy as np\n",
    "import markdown\n",
    "import os\n",
    "import haversine\n",
    "\n",
    "    # Viz Packages\n",
    "import seaborn as sns\n",
    "import matplotlib.pyplot as plt\n",
    "\n",
    "    # Scipy Stats\n",
    "import scipy.stats as stats\n",
    "from scipy.special import logit, expit\n",
    "\n",
    "    # Statsmodel Api\n",
    "import statsmodels.api as sm\n",
    "from statsmodels.formula.api import ols\n",
    "\n",
    "    # SKLearn Modules\n",
    "from sklearn.linear_model import LinearRegression, Ridge, Lasso, ElasticNet, LogisticRegression\n",
    "from sklearn.feature_selection import RFE\n",
    "from sklearn.preprocessing import StandardScaler, OneHotEncoder, normalize\n",
    "from sklearn.metrics import r2_score, mean_squared_error, mean_absolute_error, log_loss, confusion_matrix, RocCurveDisplay, classification_report, accuracy_score, recall_score, precision_score, f1_score, make_scorer, roc_curve, roc_auc_score, auc\n",
    "from sklearn.preprocessing import PolynomialFeatures, LabelEncoder\n",
    "from sklearn.datasets import load_diabetes\n",
    "from sklearn.model_selection import train_test_split, cross_validate, KFold, cross_val_score, GridSearchCV, RandomizedSearchCV\n",
    "from sklearn import datasets\n",
    "from imblearn.pipeline import Pipeline\n",
    "from imblearn.over_sampling import SMOTE\n",
    "from sklearn.neighbors import KNeighborsClassifier\n",
    "from sklearn.tree import DecisionTreeClassifier\n",
    "\n",
    "    # Suppress future, deprecation, and SettingWithCopy warnings\n",
    "import warnings\n",
    "warnings.filterwarnings(\"ignore\", category= FutureWarning)\n",
    "warnings.filterwarnings(\"ignore\", category=DeprecationWarning)\n",
    "pd.options.mode.chained_assignment = None\n",
    "\n",
    "    # make all columns in a df viewable\n",
    "pd.options.display.max_columns = None\n",
    "pd.options.display.width = None"
   ]
  },
  {
   "attachments": {},
   "cell_type": "markdown",
   "metadata": {},
   "source": [
    "## The Business Problem\n",
    "\n",
    "We've been hired by **Insert Credit Agency** to create a screener to help protect their clients from potentially fradulent purchases."
   ]
  },
  {
   "attachments": {},
   "cell_type": "markdown",
   "metadata": {},
   "source": [
    "## Data Understanding"
   ]
  },
  {
   "attachments": {},
   "cell_type": "markdown",
   "metadata": {},
   "source": [
    "Data from Kaggle, Synthetically Generated, Already splitted for us. Synthetically Generated good because data like this usually encrypted/not available to public. No missing values, should be easier to clean and prep for analysis."
   ]
  },
  {
   "cell_type": "code",
   "execution_count": 2,
   "metadata": {},
   "outputs": [],
   "source": [
    "# Load in Fraud Test and Train\n",
    "fraudTrain = pd.read_csv('data/fraudTrain.csv')\n",
    "fraudTest = pd.read_csv('data/fraudTest.csv')\n",
    "# Concatenate them for sake of EDA\n",
    "fraudDF = pd.concat([fraudTrain, fraudTest], axis = 0)"
   ]
  },
  {
   "cell_type": "code",
   "execution_count": 3,
   "metadata": {},
   "outputs": [
    {
     "data": {
      "text/html": [
       "<div>\n",
       "<style scoped>\n",
       "    .dataframe tbody tr th:only-of-type {\n",
       "        vertical-align: middle;\n",
       "    }\n",
       "\n",
       "    .dataframe tbody tr th {\n",
       "        vertical-align: top;\n",
       "    }\n",
       "\n",
       "    .dataframe thead th {\n",
       "        text-align: right;\n",
       "    }\n",
       "</style>\n",
       "<table border=\"1\" class=\"dataframe\">\n",
       "  <thead>\n",
       "    <tr style=\"text-align: right;\">\n",
       "      <th></th>\n",
       "      <th>Unnamed: 0</th>\n",
       "      <th>trans_date_trans_time</th>\n",
       "      <th>cc_num</th>\n",
       "      <th>merchant</th>\n",
       "      <th>category</th>\n",
       "      <th>amt</th>\n",
       "      <th>first</th>\n",
       "      <th>last</th>\n",
       "      <th>gender</th>\n",
       "      <th>street</th>\n",
       "      <th>city</th>\n",
       "      <th>state</th>\n",
       "      <th>zip</th>\n",
       "      <th>lat</th>\n",
       "      <th>long</th>\n",
       "      <th>city_pop</th>\n",
       "      <th>job</th>\n",
       "      <th>dob</th>\n",
       "      <th>trans_num</th>\n",
       "      <th>unix_time</th>\n",
       "      <th>merch_lat</th>\n",
       "      <th>merch_long</th>\n",
       "      <th>is_fraud</th>\n",
       "    </tr>\n",
       "  </thead>\n",
       "  <tbody>\n",
       "    <tr>\n",
       "      <th>0</th>\n",
       "      <td>0</td>\n",
       "      <td>2019-01-01 00:00:18</td>\n",
       "      <td>2703186189652095</td>\n",
       "      <td>fraud_Rippin, Kub and Mann</td>\n",
       "      <td>misc_net</td>\n",
       "      <td>4.97</td>\n",
       "      <td>Jennifer</td>\n",
       "      <td>Banks</td>\n",
       "      <td>F</td>\n",
       "      <td>561 Perry Cove</td>\n",
       "      <td>Moravian Falls</td>\n",
       "      <td>NC</td>\n",
       "      <td>28654</td>\n",
       "      <td>36.0788</td>\n",
       "      <td>-81.1781</td>\n",
       "      <td>3495</td>\n",
       "      <td>Psychologist, counselling</td>\n",
       "      <td>1988-03-09</td>\n",
       "      <td>0b242abb623afc578575680df30655b9</td>\n",
       "      <td>1325376018</td>\n",
       "      <td>36.011293</td>\n",
       "      <td>-82.048315</td>\n",
       "      <td>0</td>\n",
       "    </tr>\n",
       "    <tr>\n",
       "      <th>1</th>\n",
       "      <td>1</td>\n",
       "      <td>2019-01-01 00:00:44</td>\n",
       "      <td>630423337322</td>\n",
       "      <td>fraud_Heller, Gutmann and Zieme</td>\n",
       "      <td>grocery_pos</td>\n",
       "      <td>107.23</td>\n",
       "      <td>Stephanie</td>\n",
       "      <td>Gill</td>\n",
       "      <td>F</td>\n",
       "      <td>43039 Riley Greens Suite 393</td>\n",
       "      <td>Orient</td>\n",
       "      <td>WA</td>\n",
       "      <td>99160</td>\n",
       "      <td>48.8878</td>\n",
       "      <td>-118.2105</td>\n",
       "      <td>149</td>\n",
       "      <td>Special educational needs teacher</td>\n",
       "      <td>1978-06-21</td>\n",
       "      <td>1f76529f8574734946361c461b024d99</td>\n",
       "      <td>1325376044</td>\n",
       "      <td>49.159047</td>\n",
       "      <td>-118.186462</td>\n",
       "      <td>0</td>\n",
       "    </tr>\n",
       "    <tr>\n",
       "      <th>2</th>\n",
       "      <td>2</td>\n",
       "      <td>2019-01-01 00:00:51</td>\n",
       "      <td>38859492057661</td>\n",
       "      <td>fraud_Lind-Buckridge</td>\n",
       "      <td>entertainment</td>\n",
       "      <td>220.11</td>\n",
       "      <td>Edward</td>\n",
       "      <td>Sanchez</td>\n",
       "      <td>M</td>\n",
       "      <td>594 White Dale Suite 530</td>\n",
       "      <td>Malad City</td>\n",
       "      <td>ID</td>\n",
       "      <td>83252</td>\n",
       "      <td>42.1808</td>\n",
       "      <td>-112.2620</td>\n",
       "      <td>4154</td>\n",
       "      <td>Nature conservation officer</td>\n",
       "      <td>1962-01-19</td>\n",
       "      <td>a1a22d70485983eac12b5b88dad1cf95</td>\n",
       "      <td>1325376051</td>\n",
       "      <td>43.150704</td>\n",
       "      <td>-112.154481</td>\n",
       "      <td>0</td>\n",
       "    </tr>\n",
       "    <tr>\n",
       "      <th>3</th>\n",
       "      <td>3</td>\n",
       "      <td>2019-01-01 00:01:16</td>\n",
       "      <td>3534093764340240</td>\n",
       "      <td>fraud_Kutch, Hermiston and Farrell</td>\n",
       "      <td>gas_transport</td>\n",
       "      <td>45.00</td>\n",
       "      <td>Jeremy</td>\n",
       "      <td>White</td>\n",
       "      <td>M</td>\n",
       "      <td>9443 Cynthia Court Apt. 038</td>\n",
       "      <td>Boulder</td>\n",
       "      <td>MT</td>\n",
       "      <td>59632</td>\n",
       "      <td>46.2306</td>\n",
       "      <td>-112.1138</td>\n",
       "      <td>1939</td>\n",
       "      <td>Patent attorney</td>\n",
       "      <td>1967-01-12</td>\n",
       "      <td>6b849c168bdad6f867558c3793159a81</td>\n",
       "      <td>1325376076</td>\n",
       "      <td>47.034331</td>\n",
       "      <td>-112.561071</td>\n",
       "      <td>0</td>\n",
       "    </tr>\n",
       "    <tr>\n",
       "      <th>4</th>\n",
       "      <td>4</td>\n",
       "      <td>2019-01-01 00:03:06</td>\n",
       "      <td>375534208663984</td>\n",
       "      <td>fraud_Keeling-Crist</td>\n",
       "      <td>misc_pos</td>\n",
       "      <td>41.96</td>\n",
       "      <td>Tyler</td>\n",
       "      <td>Garcia</td>\n",
       "      <td>M</td>\n",
       "      <td>408 Bradley Rest</td>\n",
       "      <td>Doe Hill</td>\n",
       "      <td>VA</td>\n",
       "      <td>24433</td>\n",
       "      <td>38.4207</td>\n",
       "      <td>-79.4629</td>\n",
       "      <td>99</td>\n",
       "      <td>Dance movement psychotherapist</td>\n",
       "      <td>1986-03-28</td>\n",
       "      <td>a41d7549acf90789359a9aa5346dcb46</td>\n",
       "      <td>1325376186</td>\n",
       "      <td>38.674999</td>\n",
       "      <td>-78.632459</td>\n",
       "      <td>0</td>\n",
       "    </tr>\n",
       "  </tbody>\n",
       "</table>\n",
       "</div>"
      ],
      "text/plain": [
       "   Unnamed: 0 trans_date_trans_time            cc_num  \\\n",
       "0           0   2019-01-01 00:00:18  2703186189652095   \n",
       "1           1   2019-01-01 00:00:44      630423337322   \n",
       "2           2   2019-01-01 00:00:51    38859492057661   \n",
       "3           3   2019-01-01 00:01:16  3534093764340240   \n",
       "4           4   2019-01-01 00:03:06   375534208663984   \n",
       "\n",
       "                             merchant       category     amt      first  \\\n",
       "0          fraud_Rippin, Kub and Mann       misc_net    4.97   Jennifer   \n",
       "1     fraud_Heller, Gutmann and Zieme    grocery_pos  107.23  Stephanie   \n",
       "2                fraud_Lind-Buckridge  entertainment  220.11     Edward   \n",
       "3  fraud_Kutch, Hermiston and Farrell  gas_transport   45.00     Jeremy   \n",
       "4                 fraud_Keeling-Crist       misc_pos   41.96      Tyler   \n",
       "\n",
       "      last gender                        street            city state    zip  \\\n",
       "0    Banks      F                561 Perry Cove  Moravian Falls    NC  28654   \n",
       "1     Gill      F  43039 Riley Greens Suite 393          Orient    WA  99160   \n",
       "2  Sanchez      M      594 White Dale Suite 530      Malad City    ID  83252   \n",
       "3    White      M   9443 Cynthia Court Apt. 038         Boulder    MT  59632   \n",
       "4   Garcia      M              408 Bradley Rest        Doe Hill    VA  24433   \n",
       "\n",
       "       lat      long  city_pop                                job         dob  \\\n",
       "0  36.0788  -81.1781      3495          Psychologist, counselling  1988-03-09   \n",
       "1  48.8878 -118.2105       149  Special educational needs teacher  1978-06-21   \n",
       "2  42.1808 -112.2620      4154        Nature conservation officer  1962-01-19   \n",
       "3  46.2306 -112.1138      1939                    Patent attorney  1967-01-12   \n",
       "4  38.4207  -79.4629        99     Dance movement psychotherapist  1986-03-28   \n",
       "\n",
       "                          trans_num   unix_time  merch_lat  merch_long  \\\n",
       "0  0b242abb623afc578575680df30655b9  1325376018  36.011293  -82.048315   \n",
       "1  1f76529f8574734946361c461b024d99  1325376044  49.159047 -118.186462   \n",
       "2  a1a22d70485983eac12b5b88dad1cf95  1325376051  43.150704 -112.154481   \n",
       "3  6b849c168bdad6f867558c3793159a81  1325376076  47.034331 -112.561071   \n",
       "4  a41d7549acf90789359a9aa5346dcb46  1325376186  38.674999  -78.632459   \n",
       "\n",
       "   is_fraud  \n",
       "0         0  \n",
       "1         0  \n",
       "2         0  \n",
       "3         0  \n",
       "4         0  "
      ]
     },
     "execution_count": 3,
     "metadata": {},
     "output_type": "execute_result"
    }
   ],
   "source": [
    "fraudDF.head()"
   ]
  },
  {
   "cell_type": "code",
   "execution_count": 4,
   "metadata": {},
   "outputs": [
    {
     "name": "stdout",
     "output_type": "stream",
     "text": [
      "<class 'pandas.core.frame.DataFrame'>\n",
      "Int64Index: 1852394 entries, 0 to 555718\n",
      "Data columns (total 23 columns):\n",
      " #   Column                 Dtype  \n",
      "---  ------                 -----  \n",
      " 0   Unnamed: 0             int64  \n",
      " 1   trans_date_trans_time  object \n",
      " 2   cc_num                 int64  \n",
      " 3   merchant               object \n",
      " 4   category               object \n",
      " 5   amt                    float64\n",
      " 6   first                  object \n",
      " 7   last                   object \n",
      " 8   gender                 object \n",
      " 9   street                 object \n",
      " 10  city                   object \n",
      " 11  state                  object \n",
      " 12  zip                    int64  \n",
      " 13  lat                    float64\n",
      " 14  long                   float64\n",
      " 15  city_pop               int64  \n",
      " 16  job                    object \n",
      " 17  dob                    object \n",
      " 18  trans_num              object \n",
      " 19  unix_time              int64  \n",
      " 20  merch_lat              float64\n",
      " 21  merch_long             float64\n",
      " 22  is_fraud               int64  \n",
      "dtypes: float64(5), int64(6), object(12)\n",
      "memory usage: 339.2+ MB\n"
     ]
    }
   ],
   "source": [
    "fraudDF.info()"
   ]
  },
  {
   "attachments": {},
   "cell_type": "markdown",
   "metadata": {},
   "source": [
    "We (obviously) have no missing values, since the data is artificially generated. However, their are some things that we need to set up in order to conduct our analysis.\n",
    "1. Since we will be using unix time, as it is much easier to manipulate, we can drop trans_date_trans_time. \n",
    "2. Convert Gender Column into a boolean\n",
    "3. Convert cc_num to a string\n",
    "4. Find best identifier for transaction tracking (Name? Credit Card Number? Address? Some sort of mix?)\n",
    "5. Drop useless columns, such as Unnamed:0 as that obviously does not effect whether or not a purchase is fraudulent"
   ]
  },
  {
   "attachments": {},
   "cell_type": "markdown",
   "metadata": {},
   "source": [
    "Via further analysis (Not included here), it seems that 1 of the people did not make any purchases with a credit card, so we only have 999 unique people in our dataset"
   ]
  },
  {
   "cell_type": "code",
   "execution_count": null,
   "metadata": {},
   "outputs": [],
   "source": []
  },
  {
   "attachments": {},
   "cell_type": "markdown",
   "metadata": {},
   "source": [
    "## Data Preparation"
   ]
  },
  {
   "cell_type": "code",
   "execution_count": 5,
   "metadata": {},
   "outputs": [
    {
     "data": {
      "text/plain": [
       "Index(['Unnamed: 0', 'trans_date_trans_time', 'cc_num', 'merchant', 'category',\n",
       "       'amt', 'first', 'last', 'gender', 'street', 'city', 'state', 'zip',\n",
       "       'lat', 'long', 'city_pop', 'job', 'dob', 'trans_num', 'unix_time',\n",
       "       'merch_lat', 'merch_long', 'is_fraud'],\n",
       "      dtype='object')"
      ]
     },
     "execution_count": 5,
     "metadata": {},
     "output_type": "execute_result"
    }
   ],
   "source": [
    "fraudTrain.columns"
   ]
  },
  {
   "cell_type": "code",
   "execution_count": 6,
   "metadata": {},
   "outputs": [],
   "source": [
    "# Drop blatantly useless columns\n",
    "fraudTrain.drop(['Unnamed: 0', 'merchant', 'dob', 'trans_num','job','merchant','cc_num','city','state'], axis = 1, inplace = True)\n",
    "fraudTest.drop(['Unnamed: 0','merchant', 'dob', 'trans_num','job','merchant','cc_num','city','state'], axis = 1, inplace = True)\n",
    "fraudDF.drop(['Unnamed: 0','merchant', 'dob', 'trans_num','job','merchant','cc_num','city','state'], axis = 1, inplace = True)"
   ]
  },
  {
   "cell_type": "code",
   "execution_count": 7,
   "metadata": {},
   "outputs": [
    {
     "name": "stdout",
     "output_type": "stream",
     "text": [
      "<class 'pandas.core.frame.DataFrame'>\n",
      "Int64Index: 1852394 entries, 0 to 555718\n",
      "Data columns (total 15 columns):\n",
      " #   Column                 Dtype  \n",
      "---  ------                 -----  \n",
      " 0   trans_date_trans_time  object \n",
      " 1   category               object \n",
      " 2   amt                    float64\n",
      " 3   first                  object \n",
      " 4   last                   object \n",
      " 5   gender                 object \n",
      " 6   street                 object \n",
      " 7   zip                    int64  \n",
      " 8   lat                    float64\n",
      " 9   long                   float64\n",
      " 10  city_pop               int64  \n",
      " 11  unix_time              int64  \n",
      " 12  merch_lat              float64\n",
      " 13  merch_long             float64\n",
      " 14  is_fraud               int64  \n",
      "dtypes: float64(5), int64(4), object(6)\n",
      "memory usage: 226.1+ MB\n"
     ]
    }
   ],
   "source": [
    "fraudDF.info()"
   ]
  },
  {
   "cell_type": "code",
   "execution_count": 8,
   "metadata": {},
   "outputs": [],
   "source": [
    "fraudDF['full_name_street'] = fraudDF['first'] + ' ' + fraudDF['last'] + ' on ' + fraudDF['street']\n",
    "fraudTest['full_name_street'] = fraudTest['first'] + ' ' + fraudTest['last'] + ' on ' + fraudTest['street']\n",
    "fraudTrain['full_name_street'] = fraudTrain['first'] + ' ' + fraudTrain['last'] + ' on ' + fraudTrain['street']\n",
    "fraudDF.drop(columns = ['first','last','street'], axis = 1, inplace = True)\n",
    "fraudTrain.drop(columns = ['first','last','street'], axis = 1, inplace = True)\n",
    "fraudTest.drop(columns = ['first','last','street'], axis = 1, inplace = True)"
   ]
  },
  {
   "cell_type": "code",
   "execution_count": 9,
   "metadata": {},
   "outputs": [],
   "source": [
    "fraudTrain.set_index(\"full_name_street\", inplace=True)\n",
    "fraudTest.set_index(\"full_name_street\", inplace=True)\n",
    "fraudDF.set_index(\"full_name_street\", inplace=True)\n",
    "fraudTrain.reset_index(inplace=True)\n",
    "fraudTest.reset_index(inplace=True)\n",
    "fraudDF.reset_index(inplace = True)"
   ]
  },
  {
   "cell_type": "code",
   "execution_count": 10,
   "metadata": {},
   "outputs": [
    {
     "name": "stdout",
     "output_type": "stream",
     "text": [
      "<class 'pandas.core.frame.DataFrame'>\n",
      "RangeIndex: 1852394 entries, 0 to 1852393\n",
      "Data columns (total 13 columns):\n",
      " #   Column                 Dtype  \n",
      "---  ------                 -----  \n",
      " 0   full_name_street       object \n",
      " 1   trans_date_trans_time  object \n",
      " 2   category               object \n",
      " 3   amt                    float64\n",
      " 4   gender                 object \n",
      " 5   zip                    int64  \n",
      " 6   lat                    float64\n",
      " 7   long                   float64\n",
      " 8   city_pop               int64  \n",
      " 9   unix_time              int64  \n",
      " 10  merch_lat              float64\n",
      " 11  merch_long             float64\n",
      " 12  is_fraud               int64  \n",
      "dtypes: float64(5), int64(4), object(4)\n",
      "memory usage: 183.7+ MB\n"
     ]
    }
   ],
   "source": [
    "fraudDF.info()"
   ]
  },
  {
   "attachments": {},
   "cell_type": "markdown",
   "metadata": {},
   "source": [
    "Convert trans_date_trans_time to Datetime Object"
   ]
  },
  {
   "cell_type": "code",
   "execution_count": 11,
   "metadata": {},
   "outputs": [],
   "source": [
    "fraudDF['trans_date_trans_time'] = pd.to_datetime(fraudDF['trans_date_trans_time'])\n",
    "fraudTrain['trans_date_trans_time'] = pd.to_datetime(fraudTrain['trans_date_trans_time'])\n",
    "fraudTest['trans_date_trans_time'] = pd.to_datetime(fraudTest['trans_date_trans_time'])"
   ]
  },
  {
   "attachments": {},
   "cell_type": "markdown",
   "metadata": {},
   "source": [
    "Male or Female Mapping"
   ]
  },
  {
   "cell_type": "code",
   "execution_count": 12,
   "metadata": {},
   "outputs": [
    {
     "data": {
      "text/plain": [
       "'F'"
      ]
     },
     "execution_count": 12,
     "metadata": {},
     "output_type": "execute_result"
    }
   ],
   "source": [
    "fraudTrain['gender'][0]"
   ]
  },
  {
   "cell_type": "code",
   "execution_count": 13,
   "metadata": {},
   "outputs": [],
   "source": [
    "if fraudTrain['gender'][0] == 'F': # Wrapper to not overtransform\n",
    "    fraudTrain['gender'] = fraudTrain['gender'].map({'F': 0, 'M': 1})\n",
    "    fraudTest['gender'] = fraudTest['gender'].map({'F': 0, 'M': 1})\n",
    "    fraudDF['gender'] = fraudDF['gender'].map({'F': 0, 'M': 1})"
   ]
  },
  {
   "attachments": {},
   "cell_type": "markdown",
   "metadata": {},
   "source": [
    "One Hot Encoding Category of Purchase"
   ]
  },
  {
   "cell_type": "code",
   "execution_count": 14,
   "metadata": {},
   "outputs": [],
   "source": [
    "if fraudTrain.columns[2] == 'category':\n",
    "    categoryOHE = pd.get_dummies(fraudDF['category'], drop_first = True)\n",
    "    fraudDF = pd.concat([fraudDF, categoryOHE], axis = 1)\n",
    "    categoryOHETrain = pd.get_dummies(fraudTrain['category'], drop_first = True)\n",
    "    fraudTrain = pd.concat([fraudTrain, categoryOHETrain], axis = 1)\n",
    "    categoryOHETest = pd.get_dummies(fraudTest['category'], drop_first = True)\n",
    "    fraudTest = pd.concat([fraudTest, categoryOHETest], axis = 1)\n",
    "    fraudTrain.drop(columns = ['category'], axis = 1, inplace = True)\n",
    "    fraudTest.drop(columns = ['category'], axis = 1, inplace = True)\n",
    "    fraudDF.drop(columns = ['category'], axis = 1, inplace = True)"
   ]
  },
  {
   "cell_type": "code",
   "execution_count": 15,
   "metadata": {},
   "outputs": [
    {
     "name": "stdout",
     "output_type": "stream",
     "text": [
      "<class 'pandas.core.frame.DataFrame'>\n",
      "RangeIndex: 1296675 entries, 0 to 1296674\n",
      "Data columns (total 25 columns):\n",
      " #   Column                 Non-Null Count    Dtype         \n",
      "---  ------                 --------------    -----         \n",
      " 0   full_name_street       1296675 non-null  object        \n",
      " 1   trans_date_trans_time  1296675 non-null  datetime64[ns]\n",
      " 2   amt                    1296675 non-null  float64       \n",
      " 3   gender                 1296675 non-null  int64         \n",
      " 4   zip                    1296675 non-null  int64         \n",
      " 5   lat                    1296675 non-null  float64       \n",
      " 6   long                   1296675 non-null  float64       \n",
      " 7   city_pop               1296675 non-null  int64         \n",
      " 8   unix_time              1296675 non-null  int64         \n",
      " 9   merch_lat              1296675 non-null  float64       \n",
      " 10  merch_long             1296675 non-null  float64       \n",
      " 11  is_fraud               1296675 non-null  int64         \n",
      " 12  food_dining            1296675 non-null  uint8         \n",
      " 13  gas_transport          1296675 non-null  uint8         \n",
      " 14  grocery_net            1296675 non-null  uint8         \n",
      " 15  grocery_pos            1296675 non-null  uint8         \n",
      " 16  health_fitness         1296675 non-null  uint8         \n",
      " 17  home                   1296675 non-null  uint8         \n",
      " 18  kids_pets              1296675 non-null  uint8         \n",
      " 19  misc_net               1296675 non-null  uint8         \n",
      " 20  misc_pos               1296675 non-null  uint8         \n",
      " 21  personal_care          1296675 non-null  uint8         \n",
      " 22  shopping_net           1296675 non-null  uint8         \n",
      " 23  shopping_pos           1296675 non-null  uint8         \n",
      " 24  travel                 1296675 non-null  uint8         \n",
      "dtypes: datetime64[ns](1), float64(5), int64(5), object(1), uint8(13)\n",
      "memory usage: 134.8+ MB\n"
     ]
    }
   ],
   "source": [
    "fraudTrain.info()"
   ]
  },
  {
   "cell_type": "code",
   "execution_count": 16,
   "metadata": {},
   "outputs": [
    {
     "name": "stdout",
     "output_type": "stream",
     "text": [
      "<class 'pandas.core.frame.DataFrame'>\n",
      "RangeIndex: 555719 entries, 0 to 555718\n",
      "Data columns (total 25 columns):\n",
      " #   Column                 Non-Null Count   Dtype         \n",
      "---  ------                 --------------   -----         \n",
      " 0   full_name_street       555719 non-null  object        \n",
      " 1   trans_date_trans_time  555719 non-null  datetime64[ns]\n",
      " 2   amt                    555719 non-null  float64       \n",
      " 3   gender                 555719 non-null  int64         \n",
      " 4   zip                    555719 non-null  int64         \n",
      " 5   lat                    555719 non-null  float64       \n",
      " 6   long                   555719 non-null  float64       \n",
      " 7   city_pop               555719 non-null  int64         \n",
      " 8   unix_time              555719 non-null  int64         \n",
      " 9   merch_lat              555719 non-null  float64       \n",
      " 10  merch_long             555719 non-null  float64       \n",
      " 11  is_fraud               555719 non-null  int64         \n",
      " 12  food_dining            555719 non-null  uint8         \n",
      " 13  gas_transport          555719 non-null  uint8         \n",
      " 14  grocery_net            555719 non-null  uint8         \n",
      " 15  grocery_pos            555719 non-null  uint8         \n",
      " 16  health_fitness         555719 non-null  uint8         \n",
      " 17  home                   555719 non-null  uint8         \n",
      " 18  kids_pets              555719 non-null  uint8         \n",
      " 19  misc_net               555719 non-null  uint8         \n",
      " 20  misc_pos               555719 non-null  uint8         \n",
      " 21  personal_care          555719 non-null  uint8         \n",
      " 22  shopping_net           555719 non-null  uint8         \n",
      " 23  shopping_pos           555719 non-null  uint8         \n",
      " 24  travel                 555719 non-null  uint8         \n",
      "dtypes: datetime64[ns](1), float64(5), int64(5), object(1), uint8(13)\n",
      "memory usage: 57.8+ MB\n"
     ]
    }
   ],
   "source": [
    "fraudTest.info()"
   ]
  },
  {
   "attachments": {},
   "cell_type": "markdown",
   "metadata": {},
   "source": [
    "New Features: Distance from Home, Distance from Last Purchase, Time of Purchase, Time Since Last Purchase"
   ]
  },
  {
   "attachments": {},
   "cell_type": "markdown",
   "metadata": {},
   "source": [
    "Merchant's Distance From Home"
   ]
  },
  {
   "cell_type": "code",
   "execution_count": 17,
   "metadata": {},
   "outputs": [],
   "source": [
    "# Haversine Function for Calculating Distance Between Place of Purchase, Home of Customer\n",
    "def distance(lat1, lon1, lat2, lon2):\n",
    "    coords1 = (lat1, lon1)\n",
    "    coords2 = (lat2, lon2)\n",
    "    return haversine.haversine(coords1, coords2)"
   ]
  },
  {
   "cell_type": "code",
   "execution_count": 18,
   "metadata": {},
   "outputs": [],
   "source": [
    "fraudDF['distance_from_home'] = fraudDF.apply(lambda row: distance(row['lat'], row['long'], row['merch_lat'], row['merch_long']), axis=1)\n",
    "fraudTrain['distance_from_home'] = fraudTrain.apply(lambda row: distance(row['lat'], row['long'], row['merch_lat'], row['merch_long']), axis=1)\n",
    "fraudTest['distance_from_home'] = fraudTest.apply(lambda row: distance(row['lat'], row['long'], row['merch_lat'], row['merch_long']), axis=1)"
   ]
  },
  {
   "cell_type": "code",
   "execution_count": 19,
   "metadata": {},
   "outputs": [
    {
     "name": "stdout",
     "output_type": "stream",
     "text": [
      "<class 'pandas.core.frame.DataFrame'>\n",
      "RangeIndex: 1296675 entries, 0 to 1296674\n",
      "Data columns (total 26 columns):\n",
      " #   Column                 Non-Null Count    Dtype         \n",
      "---  ------                 --------------    -----         \n",
      " 0   full_name_street       1296675 non-null  object        \n",
      " 1   trans_date_trans_time  1296675 non-null  datetime64[ns]\n",
      " 2   amt                    1296675 non-null  float64       \n",
      " 3   gender                 1296675 non-null  int64         \n",
      " 4   zip                    1296675 non-null  int64         \n",
      " 5   lat                    1296675 non-null  float64       \n",
      " 6   long                   1296675 non-null  float64       \n",
      " 7   city_pop               1296675 non-null  int64         \n",
      " 8   unix_time              1296675 non-null  int64         \n",
      " 9   merch_lat              1296675 non-null  float64       \n",
      " 10  merch_long             1296675 non-null  float64       \n",
      " 11  is_fraud               1296675 non-null  int64         \n",
      " 12  food_dining            1296675 non-null  uint8         \n",
      " 13  gas_transport          1296675 non-null  uint8         \n",
      " 14  grocery_net            1296675 non-null  uint8         \n",
      " 15  grocery_pos            1296675 non-null  uint8         \n",
      " 16  health_fitness         1296675 non-null  uint8         \n",
      " 17  home                   1296675 non-null  uint8         \n",
      " 18  kids_pets              1296675 non-null  uint8         \n",
      " 19  misc_net               1296675 non-null  uint8         \n",
      " 20  misc_pos               1296675 non-null  uint8         \n",
      " 21  personal_care          1296675 non-null  uint8         \n",
      " 22  shopping_net           1296675 non-null  uint8         \n",
      " 23  shopping_pos           1296675 non-null  uint8         \n",
      " 24  travel                 1296675 non-null  uint8         \n",
      " 25  distance_from_home     1296675 non-null  float64       \n",
      "dtypes: datetime64[ns](1), float64(6), int64(5), object(1), uint8(13)\n",
      "memory usage: 144.7+ MB\n"
     ]
    }
   ],
   "source": [
    "fraudTrain.info()"
   ]
  },
  {
   "attachments": {},
   "cell_type": "markdown",
   "metadata": {},
   "source": [
    "Time of Purchase"
   ]
  },
  {
   "cell_type": "code",
   "execution_count": 20,
   "metadata": {},
   "outputs": [],
   "source": [
    "# converting Time column to datetime\n",
    "fraudTrain[\"Time\"] = pd.to_datetime(fraudTrain[\"trans_date_trans_time\"]).dt.hour\n",
    "fraudTest[\"Time\"] = pd.to_datetime(fraudTest[\"trans_date_trans_time\"]).dt.hour"
   ]
  },
  {
   "cell_type": "code",
   "execution_count": 21,
   "metadata": {},
   "outputs": [
    {
     "name": "stdout",
     "output_type": "stream",
     "text": [
      "<class 'pandas.core.frame.DataFrame'>\n",
      "RangeIndex: 1296675 entries, 0 to 1296674\n",
      "Data columns (total 27 columns):\n",
      " #   Column                 Non-Null Count    Dtype         \n",
      "---  ------                 --------------    -----         \n",
      " 0   full_name_street       1296675 non-null  object        \n",
      " 1   trans_date_trans_time  1296675 non-null  datetime64[ns]\n",
      " 2   amt                    1296675 non-null  float64       \n",
      " 3   gender                 1296675 non-null  int64         \n",
      " 4   zip                    1296675 non-null  int64         \n",
      " 5   lat                    1296675 non-null  float64       \n",
      " 6   long                   1296675 non-null  float64       \n",
      " 7   city_pop               1296675 non-null  int64         \n",
      " 8   unix_time              1296675 non-null  int64         \n",
      " 9   merch_lat              1296675 non-null  float64       \n",
      " 10  merch_long             1296675 non-null  float64       \n",
      " 11  is_fraud               1296675 non-null  int64         \n",
      " 12  food_dining            1296675 non-null  uint8         \n",
      " 13  gas_transport          1296675 non-null  uint8         \n",
      " 14  grocery_net            1296675 non-null  uint8         \n",
      " 15  grocery_pos            1296675 non-null  uint8         \n",
      " 16  health_fitness         1296675 non-null  uint8         \n",
      " 17  home                   1296675 non-null  uint8         \n",
      " 18  kids_pets              1296675 non-null  uint8         \n",
      " 19  misc_net               1296675 non-null  uint8         \n",
      " 20  misc_pos               1296675 non-null  uint8         \n",
      " 21  personal_care          1296675 non-null  uint8         \n",
      " 22  shopping_net           1296675 non-null  uint8         \n",
      " 23  shopping_pos           1296675 non-null  uint8         \n",
      " 24  travel                 1296675 non-null  uint8         \n",
      " 25  distance_from_home     1296675 non-null  float64       \n",
      " 26  Time                   1296675 non-null  int64         \n",
      "dtypes: datetime64[ns](1), float64(6), int64(6), object(1), uint8(13)\n",
      "memory usage: 154.6+ MB\n"
     ]
    }
   ],
   "source": [
    "# Categorize by Time of Day\n",
    "fraudTrain.info()"
   ]
  },
  {
   "cell_type": "code",
   "execution_count": 22,
   "metadata": {},
   "outputs": [
    {
     "name": "stdout",
     "output_type": "stream",
     "text": [
      "<class 'pandas.core.frame.DataFrame'>\n",
      "RangeIndex: 1296675 entries, 0 to 1296674\n",
      "Data columns (total 27 columns):\n",
      " #   Column                 Non-Null Count    Dtype         \n",
      "---  ------                 --------------    -----         \n",
      " 0   full_name_street       1296675 non-null  object        \n",
      " 1   trans_date_trans_time  1296675 non-null  datetime64[ns]\n",
      " 2   amt                    1296675 non-null  float64       \n",
      " 3   gender                 1296675 non-null  int64         \n",
      " 4   zip                    1296675 non-null  int64         \n",
      " 5   lat                    1296675 non-null  float64       \n",
      " 6   long                   1296675 non-null  float64       \n",
      " 7   city_pop               1296675 non-null  int64         \n",
      " 8   unix_time              1296675 non-null  int64         \n",
      " 9   merch_lat              1296675 non-null  float64       \n",
      " 10  merch_long             1296675 non-null  float64       \n",
      " 11  is_fraud               1296675 non-null  int64         \n",
      " 12  food_dining            1296675 non-null  uint8         \n",
      " 13  gas_transport          1296675 non-null  uint8         \n",
      " 14  grocery_net            1296675 non-null  uint8         \n",
      " 15  grocery_pos            1296675 non-null  uint8         \n",
      " 16  health_fitness         1296675 non-null  uint8         \n",
      " 17  home                   1296675 non-null  uint8         \n",
      " 18  kids_pets              1296675 non-null  uint8         \n",
      " 19  misc_net               1296675 non-null  uint8         \n",
      " 20  misc_pos               1296675 non-null  uint8         \n",
      " 21  personal_care          1296675 non-null  uint8         \n",
      " 22  shopping_net           1296675 non-null  uint8         \n",
      " 23  shopping_pos           1296675 non-null  uint8         \n",
      " 24  travel                 1296675 non-null  uint8         \n",
      " 25  distance_from_home     1296675 non-null  float64       \n",
      " 26  Time                   1296675 non-null  int64         \n",
      "dtypes: datetime64[ns](1), float64(6), int64(6), object(1), uint8(13)\n",
      "memory usage: 154.6+ MB\n"
     ]
    }
   ],
   "source": [
    "fraudTrain.info()"
   ]
  },
  {
   "attachments": {},
   "cell_type": "markdown",
   "metadata": {},
   "source": [
    "Time Since Last Purchase"
   ]
  },
  {
   "cell_type": "code",
   "execution_count": 23,
   "metadata": {},
   "outputs": [],
   "source": [
    "fraudTrain['TimeSinceLast'] = fraudTrain.groupby(by = 'full_name_street')['unix_time'].diff()\n",
    "fraudTest['TimeSinceLast'] = fraudTest.groupby(by = 'full_name_street')['unix_time'].diff()"
   ]
  },
  {
   "cell_type": "code",
   "execution_count": 24,
   "metadata": {},
   "outputs": [],
   "source": [
    "fraudTrain['TimeSinceLast'] = fraudTrain['TimeSinceLast'].fillna(-1)\n",
    "fraudTest['TimeSinceLast'] = fraudTest['TimeSinceLast'].fillna(-1)\n",
    "\n",
    "if fraudTrain.columns[27] == 'TimeSinceLast':\n",
    "    fraudTrain.drop(columns= ['Time'], axis = 1, inplace = True)\n",
    "    fraudTest.drop(columns= ['Time'], axis = 1, inplace = True)"
   ]
  },
  {
   "cell_type": "code",
   "execution_count": 25,
   "metadata": {},
   "outputs": [
    {
     "name": "stdout",
     "output_type": "stream",
     "text": [
      "<class 'pandas.core.frame.DataFrame'>\n",
      "RangeIndex: 555719 entries, 0 to 555718\n",
      "Data columns (total 27 columns):\n",
      " #   Column                 Non-Null Count   Dtype         \n",
      "---  ------                 --------------   -----         \n",
      " 0   full_name_street       555719 non-null  object        \n",
      " 1   trans_date_trans_time  555719 non-null  datetime64[ns]\n",
      " 2   amt                    555719 non-null  float64       \n",
      " 3   gender                 555719 non-null  int64         \n",
      " 4   zip                    555719 non-null  int64         \n",
      " 5   lat                    555719 non-null  float64       \n",
      " 6   long                   555719 non-null  float64       \n",
      " 7   city_pop               555719 non-null  int64         \n",
      " 8   unix_time              555719 non-null  int64         \n",
      " 9   merch_lat              555719 non-null  float64       \n",
      " 10  merch_long             555719 non-null  float64       \n",
      " 11  is_fraud               555719 non-null  int64         \n",
      " 12  food_dining            555719 non-null  uint8         \n",
      " 13  gas_transport          555719 non-null  uint8         \n",
      " 14  grocery_net            555719 non-null  uint8         \n",
      " 15  grocery_pos            555719 non-null  uint8         \n",
      " 16  health_fitness         555719 non-null  uint8         \n",
      " 17  home                   555719 non-null  uint8         \n",
      " 18  kids_pets              555719 non-null  uint8         \n",
      " 19  misc_net               555719 non-null  uint8         \n",
      " 20  misc_pos               555719 non-null  uint8         \n",
      " 21  personal_care          555719 non-null  uint8         \n",
      " 22  shopping_net           555719 non-null  uint8         \n",
      " 23  shopping_pos           555719 non-null  uint8         \n",
      " 24  travel                 555719 non-null  uint8         \n",
      " 25  distance_from_home     555719 non-null  float64       \n",
      " 26  TimeSinceLast          555719 non-null  float64       \n",
      "dtypes: datetime64[ns](1), float64(7), int64(5), object(1), uint8(13)\n",
      "memory usage: 66.2+ MB\n"
     ]
    }
   ],
   "source": [
    "fraudTest.info()\n"
   ]
  },
  {
   "cell_type": "code",
   "execution_count": 26,
   "metadata": {},
   "outputs": [
    {
     "name": "stdout",
     "output_type": "stream",
     "text": [
      "<class 'pandas.core.frame.DataFrame'>\n",
      "RangeIndex: 1296675 entries, 0 to 1296674\n",
      "Data columns (total 27 columns):\n",
      " #   Column                 Non-Null Count    Dtype         \n",
      "---  ------                 --------------    -----         \n",
      " 0   full_name_street       1296675 non-null  object        \n",
      " 1   trans_date_trans_time  1296675 non-null  datetime64[ns]\n",
      " 2   amt                    1296675 non-null  float64       \n",
      " 3   gender                 1296675 non-null  int64         \n",
      " 4   zip                    1296675 non-null  int64         \n",
      " 5   lat                    1296675 non-null  float64       \n",
      " 6   long                   1296675 non-null  float64       \n",
      " 7   city_pop               1296675 non-null  int64         \n",
      " 8   unix_time              1296675 non-null  int64         \n",
      " 9   merch_lat              1296675 non-null  float64       \n",
      " 10  merch_long             1296675 non-null  float64       \n",
      " 11  is_fraud               1296675 non-null  int64         \n",
      " 12  food_dining            1296675 non-null  uint8         \n",
      " 13  gas_transport          1296675 non-null  uint8         \n",
      " 14  grocery_net            1296675 non-null  uint8         \n",
      " 15  grocery_pos            1296675 non-null  uint8         \n",
      " 16  health_fitness         1296675 non-null  uint8         \n",
      " 17  home                   1296675 non-null  uint8         \n",
      " 18  kids_pets              1296675 non-null  uint8         \n",
      " 19  misc_net               1296675 non-null  uint8         \n",
      " 20  misc_pos               1296675 non-null  uint8         \n",
      " 21  personal_care          1296675 non-null  uint8         \n",
      " 22  shopping_net           1296675 non-null  uint8         \n",
      " 23  shopping_pos           1296675 non-null  uint8         \n",
      " 24  travel                 1296675 non-null  uint8         \n",
      " 25  distance_from_home     1296675 non-null  float64       \n",
      " 26  TimeSinceLast          1296675 non-null  float64       \n",
      "dtypes: datetime64[ns](1), float64(7), int64(5), object(1), uint8(13)\n",
      "memory usage: 154.6+ MB\n"
     ]
    }
   ],
   "source": [
    "fraudTrain.info()"
   ]
  },
  {
   "cell_type": "code",
   "execution_count": 27,
   "metadata": {},
   "outputs": [],
   "source": [
    "fraudTrain.drop(['lat','long','unix_time','merch_lat','merch_long'], axis = 1, inplace = True)\n",
    "fraudTest.drop(['lat','long','unix_time','merch_lat','merch_long'], axis = 1, inplace = True)"
   ]
  },
  {
   "attachments": {},
   "cell_type": "markdown",
   "metadata": {},
   "source": [
    "## Modeling"
   ]
  },
  {
   "attachments": {},
   "cell_type": "markdown",
   "metadata": {},
   "source": [
    "##### Business Problem specifies that we a creating a screener, so we want to catch almost all fraudulent purchases, don't care too much about False-Positives, so we will use Recall as our scoring metric."
   ]
  },
  {
   "attachments": {},
   "cell_type": "markdown",
   "metadata": {},
   "source": [
    "Obviously, if we classify every purchase as fradulent, we would get a recall of 1, but that would be an extremely shitty screener. We have to do more work than that. Let's make a baseline logistic regression model, just with the columns we currently have- not taking anything else into account. We would expect this to be a bad model, but it is a good place to start."
   ]
  },
  {
   "cell_type": "code",
   "execution_count": 28,
   "metadata": {},
   "outputs": [
    {
     "name": "stdout",
     "output_type": "stream",
     "text": [
      "<class 'pandas.core.frame.DataFrame'>\n",
      "RangeIndex: 1296675 entries, 0 to 1296674\n",
      "Data columns (total 19 columns):\n",
      " #   Column              Non-Null Count    Dtype  \n",
      "---  ------              --------------    -----  \n",
      " 0   amt                 1296675 non-null  float64\n",
      " 1   gender              1296675 non-null  int64  \n",
      " 2   zip                 1296675 non-null  int64  \n",
      " 3   city_pop            1296675 non-null  int64  \n",
      " 4   food_dining         1296675 non-null  uint8  \n",
      " 5   gas_transport       1296675 non-null  uint8  \n",
      " 6   grocery_net         1296675 non-null  uint8  \n",
      " 7   grocery_pos         1296675 non-null  uint8  \n",
      " 8   health_fitness      1296675 non-null  uint8  \n",
      " 9   home                1296675 non-null  uint8  \n",
      " 10  kids_pets           1296675 non-null  uint8  \n",
      " 11  misc_net            1296675 non-null  uint8  \n",
      " 12  misc_pos            1296675 non-null  uint8  \n",
      " 13  personal_care       1296675 non-null  uint8  \n",
      " 14  shopping_net        1296675 non-null  uint8  \n",
      " 15  shopping_pos        1296675 non-null  uint8  \n",
      " 16  travel              1296675 non-null  uint8  \n",
      " 17  distance_from_home  1296675 non-null  float64\n",
      " 18  TimeSinceLast       1296675 non-null  float64\n",
      "dtypes: float64(3), int64(3), uint8(13)\n",
      "memory usage: 75.4 MB\n"
     ]
    }
   ],
   "source": [
    "X_train = fraudTrain.drop(['is_fraud','trans_date_trans_time', 'full_name_street'], axis = 1)\n",
    "y_train = fraudTrain['is_fraud']\n",
    "X_test = fraudTest.drop(['is_fraud','trans_date_trans_time','full_name_street'], axis = 1)\n",
    "y_test = fraudTest['is_fraud']\n",
    "X_train.info()"
   ]
  },
  {
   "cell_type": "code",
   "execution_count": 29,
   "metadata": {},
   "outputs": [],
   "source": [
    "from imblearn.over_sampling import SMOTE\n",
    "SMT = SMOTE(random_state = 42)\n",
    "SS = StandardScaler()\n",
    "BaselineModel = LogisticRegression(random_state = 42, solver = 'saga')\n",
    "pipelineLog = Pipeline([('Scaler', SS),('SMOTE', SMT),('LogModel', BaselineModel)])"
   ]
  },
  {
   "cell_type": "code",
   "execution_count": 30,
   "metadata": {},
   "outputs": [
    {
     "data": {
      "text/html": [
       "<style>#sk-container-id-1 {color: black;background-color: white;}#sk-container-id-1 pre{padding: 0;}#sk-container-id-1 div.sk-toggleable {background-color: white;}#sk-container-id-1 label.sk-toggleable__label {cursor: pointer;display: block;width: 100%;margin-bottom: 0;padding: 0.3em;box-sizing: border-box;text-align: center;}#sk-container-id-1 label.sk-toggleable__label-arrow:before {content: \"▸\";float: left;margin-right: 0.25em;color: #696969;}#sk-container-id-1 label.sk-toggleable__label-arrow:hover:before {color: black;}#sk-container-id-1 div.sk-estimator:hover label.sk-toggleable__label-arrow:before {color: black;}#sk-container-id-1 div.sk-toggleable__content {max-height: 0;max-width: 0;overflow: hidden;text-align: left;background-color: #f0f8ff;}#sk-container-id-1 div.sk-toggleable__content pre {margin: 0.2em;color: black;border-radius: 0.25em;background-color: #f0f8ff;}#sk-container-id-1 input.sk-toggleable__control:checked~div.sk-toggleable__content {max-height: 200px;max-width: 100%;overflow: auto;}#sk-container-id-1 input.sk-toggleable__control:checked~label.sk-toggleable__label-arrow:before {content: \"▾\";}#sk-container-id-1 div.sk-estimator input.sk-toggleable__control:checked~label.sk-toggleable__label {background-color: #d4ebff;}#sk-container-id-1 div.sk-label input.sk-toggleable__control:checked~label.sk-toggleable__label {background-color: #d4ebff;}#sk-container-id-1 input.sk-hidden--visually {border: 0;clip: rect(1px 1px 1px 1px);clip: rect(1px, 1px, 1px, 1px);height: 1px;margin: -1px;overflow: hidden;padding: 0;position: absolute;width: 1px;}#sk-container-id-1 div.sk-estimator {font-family: monospace;background-color: #f0f8ff;border: 1px dotted black;border-radius: 0.25em;box-sizing: border-box;margin-bottom: 0.5em;}#sk-container-id-1 div.sk-estimator:hover {background-color: #d4ebff;}#sk-container-id-1 div.sk-parallel-item::after {content: \"\";width: 100%;border-bottom: 1px solid gray;flex-grow: 1;}#sk-container-id-1 div.sk-label:hover label.sk-toggleable__label {background-color: #d4ebff;}#sk-container-id-1 div.sk-serial::before {content: \"\";position: absolute;border-left: 1px solid gray;box-sizing: border-box;top: 0;bottom: 0;left: 50%;z-index: 0;}#sk-container-id-1 div.sk-serial {display: flex;flex-direction: column;align-items: center;background-color: white;padding-right: 0.2em;padding-left: 0.2em;position: relative;}#sk-container-id-1 div.sk-item {position: relative;z-index: 1;}#sk-container-id-1 div.sk-parallel {display: flex;align-items: stretch;justify-content: center;background-color: white;position: relative;}#sk-container-id-1 div.sk-item::before, #sk-container-id-1 div.sk-parallel-item::before {content: \"\";position: absolute;border-left: 1px solid gray;box-sizing: border-box;top: 0;bottom: 0;left: 50%;z-index: -1;}#sk-container-id-1 div.sk-parallel-item {display: flex;flex-direction: column;z-index: 1;position: relative;background-color: white;}#sk-container-id-1 div.sk-parallel-item:first-child::after {align-self: flex-end;width: 50%;}#sk-container-id-1 div.sk-parallel-item:last-child::after {align-self: flex-start;width: 50%;}#sk-container-id-1 div.sk-parallel-item:only-child::after {width: 0;}#sk-container-id-1 div.sk-dashed-wrapped {border: 1px dashed gray;margin: 0 0.4em 0.5em 0.4em;box-sizing: border-box;padding-bottom: 0.4em;background-color: white;}#sk-container-id-1 div.sk-label label {font-family: monospace;font-weight: bold;display: inline-block;line-height: 1.2em;}#sk-container-id-1 div.sk-label-container {text-align: center;}#sk-container-id-1 div.sk-container {/* jupyter's `normalize.less` sets `[hidden] { display: none; }` but bootstrap.min.css set `[hidden] { display: none !important; }` so we also need the `!important` here to be able to override the default hidden behavior on the sphinx rendered scikit-learn.org. See: https://github.com/scikit-learn/scikit-learn/issues/21755 */display: inline-block !important;position: relative;}#sk-container-id-1 div.sk-text-repr-fallback {display: none;}</style><div id=\"sk-container-id-1\" class=\"sk-top-container\"><div class=\"sk-text-repr-fallback\"><pre>Pipeline(steps=[(&#x27;Scaler&#x27;, StandardScaler()), (&#x27;SMOTE&#x27;, SMOTE(random_state=42)),\n",
       "                (&#x27;LogModel&#x27;,\n",
       "                 LogisticRegression(random_state=42, solver=&#x27;saga&#x27;))])</pre><b>In a Jupyter environment, please rerun this cell to show the HTML representation or trust the notebook. <br />On GitHub, the HTML representation is unable to render, please try loading this page with nbviewer.org.</b></div><div class=\"sk-container\" hidden><div class=\"sk-item sk-dashed-wrapped\"><div class=\"sk-label-container\"><div class=\"sk-label sk-toggleable\"><input class=\"sk-toggleable__control sk-hidden--visually\" id=\"sk-estimator-id-1\" type=\"checkbox\" ><label for=\"sk-estimator-id-1\" class=\"sk-toggleable__label sk-toggleable__label-arrow\">Pipeline</label><div class=\"sk-toggleable__content\"><pre>Pipeline(steps=[(&#x27;Scaler&#x27;, StandardScaler()), (&#x27;SMOTE&#x27;, SMOTE(random_state=42)),\n",
       "                (&#x27;LogModel&#x27;,\n",
       "                 LogisticRegression(random_state=42, solver=&#x27;saga&#x27;))])</pre></div></div></div><div class=\"sk-serial\"><div class=\"sk-item\"><div class=\"sk-estimator sk-toggleable\"><input class=\"sk-toggleable__control sk-hidden--visually\" id=\"sk-estimator-id-2\" type=\"checkbox\" ><label for=\"sk-estimator-id-2\" class=\"sk-toggleable__label sk-toggleable__label-arrow\">StandardScaler</label><div class=\"sk-toggleable__content\"><pre>StandardScaler()</pre></div></div></div><div class=\"sk-item\"><div class=\"sk-estimator sk-toggleable\"><input class=\"sk-toggleable__control sk-hidden--visually\" id=\"sk-estimator-id-3\" type=\"checkbox\" ><label for=\"sk-estimator-id-3\" class=\"sk-toggleable__label sk-toggleable__label-arrow\">SMOTE</label><div class=\"sk-toggleable__content\"><pre>SMOTE(random_state=42)</pre></div></div></div><div class=\"sk-item\"><div class=\"sk-estimator sk-toggleable\"><input class=\"sk-toggleable__control sk-hidden--visually\" id=\"sk-estimator-id-4\" type=\"checkbox\" ><label for=\"sk-estimator-id-4\" class=\"sk-toggleable__label sk-toggleable__label-arrow\">LogisticRegression</label><div class=\"sk-toggleable__content\"><pre>LogisticRegression(random_state=42, solver=&#x27;saga&#x27;)</pre></div></div></div></div></div></div></div>"
      ],
      "text/plain": [
       "Pipeline(steps=[('Scaler', StandardScaler()), ('SMOTE', SMOTE(random_state=42)),\n",
       "                ('LogModel',\n",
       "                 LogisticRegression(random_state=42, solver='saga'))])"
      ]
     },
     "execution_count": 30,
     "metadata": {},
     "output_type": "execute_result"
    }
   ],
   "source": [
    "pipelineLog.fit(X_train, y_train)"
   ]
  },
  {
   "cell_type": "code",
   "execution_count": 31,
   "metadata": {},
   "outputs": [
    {
     "name": "stdout",
     "output_type": "stream",
     "text": [
      "0.7498001598721024\n",
      "0.7375291375291375\n"
     ]
    },
    {
     "data": {
      "text/plain": [
       "array([[488840,  64734],\n",
       "       [   563,   1582]], dtype=int64)"
      ]
     },
     "execution_count": 31,
     "metadata": {},
     "output_type": "execute_result"
    }
   ],
   "source": [
    "y_pred_test = pipelineLog.predict(X_test)\n",
    "y_pred_train = pipelineLog.predict(X_train)\n",
    "print(recall_score(y_train, y_pred_train))\n",
    "print(recall_score(y_test, y_pred_test))\n",
    "confusion_matrix(y_test, y_pred_test)"
   ]
  },
  {
   "attachments": {},
   "cell_type": "markdown",
   "metadata": {},
   "source": [
    "Hyperparameter Tuning for Model"
   ]
  },
  {
   "cell_type": "code",
   "execution_count": 32,
   "metadata": {},
   "outputs": [],
   "source": [
    "# Custom Scorer\n",
    "def custom_recall_score(y_true, y_pred_prob, threshold):\n",
    "    y_pred = (y_pred_prob >= threshold).astype(int)\n",
    "    return recall_score(y_true, y_pred)"
   ]
  },
  {
   "cell_type": "code",
   "execution_count": 33,
   "metadata": {},
   "outputs": [],
   "source": [
    "for n in range(1,6):\n",
    "    scorer = make_scorer(custom_recall_score, threshold = n/10, needs_proba=True)\n",
    "    param_gridLog = {'LogModel__C': [i/2 for i in range(10, 51, 5)], 'LogModel__penalty': ['l2','l1']} #  scoring__threshold': [i/20 for i in range(1, 10)] \n",
    "    grid_search = RandomizedSearchCV(pipelineLog, param_distributions = param_gridLog, scoring=scorer, cv=5)\n",
    "    print(f'Fitting iteration {n}')\n",
    "    grid_search.fit(X_train, y_train)\n",
    "    print(f'Scoring Threshold: {n/20}')\n",
    "    print(\"Best threshold value:\", grid_search.best_params_)\n",
    "    print(\"Best recall score:\", grid_search.best_score_)"
   ]
  },
  {
   "cell_type": "code",
   "execution_count": null,
   "metadata": {},
   "outputs": [],
   "source": []
  },
  {
   "cell_type": "code",
   "execution_count": 35,
   "metadata": {},
   "outputs": [
    {
     "name": "stdout",
     "output_type": "stream",
     "text": [
      "0.7375291375291375\n",
      "0.7498001598721024\n"
     ]
    },
    {
     "data": {
      "text/plain": [
       "array([[488839,  64735],\n",
       "       [   563,   1582]], dtype=int64)"
      ]
     },
     "execution_count": 35,
     "metadata": {},
     "output_type": "execute_result"
    }
   ],
   "source": [
    "bestModel = LogisticRegression(random_state = 42, solver = 'saga', C = 22.5)\n",
    "scorer = make_scorer(custom_recall_score, threshold = 0.1, needs_proba= True)\n",
    "pipelineLogBest = Pipeline([('Scaler', SS),('SMOTE', SMT),('LogModel', bestModel)])\n",
    "pipelineLogBest.fit(X_train, y_train)"
   ]
  },
  {
   "cell_type": "code",
   "execution_count": 48,
   "metadata": {},
   "outputs": [
    {
     "name": "stdout",
     "output_type": "stream",
     "text": [
      "Test Score: 0.9972027972027973\n",
      "Train Score: 0.998134825472955\n",
      "\n"
     ]
    }
   ],
   "source": [
    "y_pred_testProb = pipelineLogBest.predict_proba(X_test)\n",
    "y_pred_trainProb = pipelineLogBest.predict_proba(X_train)\n",
    "print(f\"Test Score: {custom_recall_score(y_test, y_pred_testProb[:,1], 0.10)}\")\n",
    "print(f\"Train Score: {custom_recall_score(y_train, y_pred_trainProb[:,1], 0.10)}\")\n",
    "#confusion_matrix(y_test, y_pred_testProb)\n",
    "print()"
   ]
  },
  {
   "cell_type": "code",
   "execution_count": 83,
   "metadata": {},
   "outputs": [
    {
     "data": {
      "text/plain": [
       "<sklearn.metrics._plot.roc_curve.RocCurveDisplay at 0x247af71ebb0>"
      ]
     },
     "execution_count": 83,
     "metadata": {},
     "output_type": "execute_result"
    },
    {
     "data": {
      "image/png": "[encoded data removed]",
      "text/plain": [
       "<Figure size 640x480 with 1 Axes>"
      ]
     },
     "metadata": {},
     "output_type": "display_data"
    }
   ],
   "source": [
    "import matplotlib.pyplot as plt\n",
    "fpr, tpr, thresholds = roc_curve(y_test, y_pred_testProb[:,1])\n",
    "roc_auc = auc(fpr, tpr)\n",
    "\n",
    "display = RocCurveDisplay(fpr = fpr, tpr = tpr, roc_auc = roc_auc)\n",
    "display.plot()"
   ]
  },
  {
   "attachments": {},
   "cell_type": "markdown",
   "metadata": {},
   "source": [
    "Decision Tree"
   ]
  },
  {
   "cell_type": "code",
   "execution_count": null,
   "metadata": {},
   "outputs": [],
   "source": [
    "dt_clf = DecisionTreeClassifier(random_state= 42)\n",
    "pipelineDT = Pipeline([('Scaler', SS),('SMOTE', SMT),('TreeModel', dt_clf)])"
   ]
  },
  {
   "attachments": {},
   "cell_type": "markdown",
   "metadata": {},
   "source": [
    "## Evaluation"
   ]
  },
  {
   "attachments": {},
   "cell_type": "markdown",
   "metadata": {},
   "source": [
    "## Code Quality???"
   ]
  },
  {
   "cell_type": "markdown",
   "metadata": {},
   "source": []
  }
 ],
 "metadata": {
  "kernelspec": {
   "display_name": "learn-env",
   "language": "python",
   "name": "python3"
  },
  "language_info": {
   "codemirror_mode": {
    "name": "ipython",
    "version": 3
   },
   "file_extension": ".py",
   "mimetype": "text/x-python",
   "name": "python",
   "nbconvert_exporter": "python",
   "pygments_lexer": "ipython3",
   "version": "3.8.1"
  },
  "orig_nbformat": 4
 },
 "nbformat": 4,
 "nbformat_minor": 2
}
